{
 "cells": [
  {
   "cell_type": "code",
   "execution_count": 1,
   "metadata": {},
   "outputs": [
    {
     "name": "stdout",
     "output_type": "stream",
     "text": [
      "zsh:1: command not found: pip\n",
      "zsh:1: command not found: pip\n"
     ]
    }
   ],
   "source": [
    "!pip install pandasql\n",
    "!pip install panda"
   ]
  },
  {
   "cell_type": "code",
   "execution_count": 2,
   "metadata": {},
   "outputs": [],
   "source": [
    "from pandasql import sqldf\n",
    "pysqldf = lambda q: sqldf(q,globals())"
   ]
  },
  {
   "cell_type": "code",
   "execution_count": 3,
   "metadata": {},
   "outputs": [],
   "source": [
    "import pandas as pd "
   ]
  },
  {
   "cell_type": "code",
   "execution_count": 4,
   "metadata": {},
   "outputs": [],
   "source": [
    "#importing csv file \n",
    "df_perfume = pd.read_csv('perfume.csv')\n",
    "#df_perfume.head()"
   ]
  },
  {
   "cell_type": "code",
   "execution_count": 5,
   "metadata": {},
   "outputs": [
    {
     "data": {
      "text/plain": [
       "Index(['brand', 'title', 'date', 'accords', 'rating_score', 'votes',\n",
       "       'longevity_poor', 'longevity_weak', 'longevity_moderate',\n",
       "       'longevity_long', 'longevity_very_long', 'sillage_soft',\n",
       "       'sillage_moderate', 'sillage_heavy', 'sillage_enormous', 'clslove',\n",
       "       'clslike', 'clsdislike', 'clswinter', 'clsspring', 'clssummer',\n",
       "       'clsautumn', 'clscold', 'clshot', 'clsday', 'clsnight',\n",
       "       'clslove_female25under', 'clslove_male25under', 'clslove_female25older',\n",
       "       'clslove_male25older', 'clslike_female25under', 'clslike_male25under',\n",
       "       'clslike_female25older', 'clslike_male25older',\n",
       "       'clsdislike_female25under', 'clsdislike_male25under',\n",
       "       'clsdislike_female25older', 'clsdislike_male25older',\n",
       "       'clswinter_female25under', 'clswinter_male25under',\n",
       "       'clswinter_female25older', 'clswinter_male25older',\n",
       "       'clsspring_female25under', 'clsspring_male25under',\n",
       "       'clsspring_female25older', 'clsspring_male25older',\n",
       "       'clssummer_female25under', 'clssummer_male25under',\n",
       "       'clssummer_female25older', 'clssummer_male25older',\n",
       "       'clsautumn_female25under', 'clsautumn_male25under',\n",
       "       'clsautumn_female25older', 'clsautumn_male25older',\n",
       "       'clsday_female25under', 'clsday_male25under', 'clsday_female25older',\n",
       "       'clsday_male25older', 'clsnight_female25under', 'clsnight_male25under',\n",
       "       'clsnight_female25older', 'clsnight_male25older', 'Ihaveit', 'Ihadit',\n",
       "       'Iwantit', 'notes_1', 'notes_2', 'notes_3', 'notes_4', 'notes_5',\n",
       "       'notes_6', 'notes_7', 'notes_8', 'notes_9', 'notes_10', 'notes_11',\n",
       "       'notes_12', 'notes_13', 'notes_14', 'notes_15', 'notes_16', 'notes_17',\n",
       "       'notes_18', 'notes_19', 'notes_20', 'gender'],\n",
       "      dtype='object')"
      ]
     },
     "execution_count": 5,
     "metadata": {},
     "output_type": "execute_result"
    }
   ],
   "source": [
    "df_perfume.columns"
   ]
  },
  {
   "cell_type": "code",
   "execution_count": 6,
   "metadata": {},
   "outputs": [
    {
     "name": "stdout",
     "output_type": "stream",
     "text": [
      "   COUNT(title)  gender\n",
      "0         10479    None\n",
      "1           850     man\n",
      "2           122  unisex\n",
      "3         39761   women\n"
     ]
    }
   ],
   "source": [
    "# most popular womens perfume \n",
    "#first step counting number of each gender\n",
    "womens_perfume = 'SELECT COUNT(title), gender FROM df_perfume GROUP BY gender;'\n",
    "print(pysqldf(womens_perfume))"
   ]
  },
  {
   "cell_type": "code",
   "execution_count": 57,
   "metadata": {},
   "outputs": [],
   "source": [
    "#second step case statement man, woman unisex\n",
    "#womens_perfume = 'SELECT title, brand, rating_score, CASE WHEN title LIKE \"%men%\" THEN \"man\" ELSE \"unisex\" END AS \"gender_groups\" FROM df_perfume WHERE (SELECT * FROM womens_perfume)'\n",
    "#print(pysqldf(womens_perfume))"
   ]
  },
  {
   "cell_type": "code",
   "execution_count": 58,
   "metadata": {},
   "outputs": [],
   "source": [
    "#looking at value counts for gender groups \n",
    "#womens_perfume = 'SELECT * FROM womens_perfume'\n",
    "#print(pysqldf(womens_perfume))"
   ]
  },
  {
   "cell_type": "code",
   "execution_count": 17,
   "metadata": {},
   "outputs": [
    {
     "name": "stdout",
     "output_type": "stream",
     "text": [
      "   AVG(votes)\n",
      "0    81.37577\n"
     ]
    }
   ],
   "source": [
    "#remix most popular women's perfume\n",
    "#finding average votes\n",
    "avg_women= 'SELECT AVG(votes) FROM df_perfume WHERE gender= \"women\"; '\n",
    "print(pysqldf(avg_women))"
   ]
  },
  {
   "cell_type": "code",
   "execution_count": 30,
   "metadata": {},
   "outputs": [
    {
     "name": "stdout",
     "output_type": "stream",
     "text": [
      "                     brand                                              title  \\\n",
      "0                 Guerlain             Vol de Nuit Extract Guerlain for women   \n",
      "1   Abdul-Samad-Al-Qurashi  Body Musk Abdul Samad Al Qurashi for women and...   \n",
      "2        GianMarco-Venturi                 Girl 2 GianMarco Venturi for women   \n",
      "3                 Guerlain           L’Heure Bleue Extract Guerlain for women   \n",
      "4                 Guerlain                 Shalimar Parfum Guerlain for women   \n",
      "5                     Coty                              Chypre Coty for women   \n",
      "6                 Guerlain                 Samsara Extrait Guerlain for women   \n",
      "7      Laboratory-Perfumes        Gorse Laboratory Perfumes for women and men   \n",
      "8       Yves-Saint-Laurent          Opium Parfum Yves Saint Laurent for women   \n",
      "9                  Lancome                 2000 et Une Rose Lancome for women   \n",
      "10               By-Kilian            Single Malt By Kilian for women and men   \n",
      "11          Christian-Dior         Dioramour Christian Dior for women and men   \n",
      "12                Guerlain                Mitsouko Extract Guerlain for women   \n",
      "13                  Chanel  Les Exclusifs de Chanel Beige Parfum Chanel fo...   \n",
      "14           Ormonde-Jayne      Nawab of Oudh Ormonde Jayne for women and men   \n",
      "\n",
      "    rating_score  date  votes  \\\n",
      "0           4.83  1933    135   \n",
      "1           4.75     0     86   \n",
      "2           4.75  2006    122   \n",
      "3           4.74  1912    143   \n",
      "4           4.71  1925    233   \n",
      "5           4.70  1917    130   \n",
      "6           4.69  1989    188   \n",
      "7           4.68  2012    132   \n",
      "8           4.64  1977    183   \n",
      "9           4.63  1999    102   \n",
      "10          4.62  2015    171   \n",
      "11          4.62  2018     87   \n",
      "12          4.62  1919    221   \n",
      "13          4.62  2014    108   \n",
      "14          4.61  2012    188   \n",
      "\n",
      "                                              accords  \n",
      "0         green,floral,aromatic,powdery,yellow floral  \n",
      "1                                               musky  \n",
      "2   sweet,fruity,tropical,floral,sour,citrus,Pictures  \n",
      "3   powdery,floral,woody,soft spicy,warm spicy,bal...  \n",
      "4              floral,powdery,vanilla,citrus,aromatic  \n",
      "5           citrus,woody,floral,balsamic,white floral  \n",
      "6         powdery,woody,floral,yellow floral,balsamic  \n",
      "7   citrus,warm spicy,fresh,aromatic,fresh spicy,P...  \n",
      "8       balsamic,warm spicy,woody,smoky,powdery,sweet  \n",
      "9       rose,musky,amber,fresh spicy,vanilla,Pictures  \n",
      "10        sweet,powdery,fruity,woody,balsamic,vanilla  \n",
      "11  powdery,white floral,floral,woody,animalic,Pic...  \n",
      "12     woody,warm spicy,earthy,citrus,cinnamon,fruity  \n",
      "13  floral,honey,white floral,sweet,fresh spicy,Pi...  \n",
      "14      warm spicy,citrus,amber,aromatic,floral,green  \n"
     ]
    }
   ],
   "source": [
    "#remix most popular women's perfume minimum rating 82\n",
    "#order by rating score \n",
    "womens_perfume = 'SELECT brand, title,rating_score,date, votes,accords FROM df_perfume WHERE gender=\"women\" AND votes >=82 ORDER BY rating_score DESC LIMIT 15;'\n",
    "print(pysqldf(womens_perfume))"
   ]
  },
  {
   "cell_type": "code",
   "execution_count": 31,
   "metadata": {},
   "outputs": [
    {
     "name": "stdout",
     "output_type": "stream",
     "text": [
      "                     brand                                              title  \\\n",
      "0                 Guerlain             Vol de Nuit Extract Guerlain for women   \n",
      "1   Abdul-Samad-Al-Qurashi  Body Musk Abdul Samad Al Qurashi for women and...   \n",
      "2        GianMarco-Venturi                 Girl 2 GianMarco Venturi for women   \n",
      "3                 Guerlain           L’Heure Bleue Extract Guerlain for women   \n",
      "4                 Guerlain                 Shalimar Parfum Guerlain for women   \n",
      "5                     Coty                              Chypre Coty for women   \n",
      "6                 Guerlain                 Samsara Extrait Guerlain for women   \n",
      "7      Laboratory-Perfumes        Gorse Laboratory Perfumes for women and men   \n",
      "8       Yves-Saint-Laurent          Opium Parfum Yves Saint Laurent for women   \n",
      "9                  Lancome                 2000 et Une Rose Lancome for women   \n",
      "10               By-Kilian            Single Malt By Kilian for women and men   \n",
      "11          Christian-Dior         Dioramour Christian Dior for women and men   \n",
      "12                Guerlain                Mitsouko Extract Guerlain for women   \n",
      "13                  Chanel  Les Exclusifs de Chanel Beige Parfum Chanel fo...   \n",
      "14           Ormonde-Jayne      Nawab of Oudh Ormonde Jayne for women and men   \n",
      "\n",
      "    rating_score  date  votes  \\\n",
      "0           4.83  1933    135   \n",
      "1           4.75     0     86   \n",
      "2           4.75  2006    122   \n",
      "3           4.74  1912    143   \n",
      "4           4.71  1925    233   \n",
      "5           4.70  1917    130   \n",
      "6           4.69  1989    188   \n",
      "7           4.68  2012    132   \n",
      "8           4.64  1977    183   \n",
      "9           4.63  1999    102   \n",
      "10          4.62  2015    171   \n",
      "11          4.62  2018     87   \n",
      "12          4.62  1919    221   \n",
      "13          4.62  2014    108   \n",
      "14          4.61  2012    188   \n",
      "\n",
      "                                              accords  \n",
      "0         green,floral,aromatic,powdery,yellow floral  \n",
      "1                                               musky  \n",
      "2   sweet,fruity,tropical,floral,sour,citrus,Pictures  \n",
      "3   powdery,floral,woody,soft spicy,warm spicy,bal...  \n",
      "4              floral,powdery,vanilla,citrus,aromatic  \n",
      "5           citrus,woody,floral,balsamic,white floral  \n",
      "6         powdery,woody,floral,yellow floral,balsamic  \n",
      "7   citrus,warm spicy,fresh,aromatic,fresh spicy,P...  \n",
      "8       balsamic,warm spicy,woody,smoky,powdery,sweet  \n",
      "9       rose,musky,amber,fresh spicy,vanilla,Pictures  \n",
      "10        sweet,powdery,fruity,woody,balsamic,vanilla  \n",
      "11  powdery,white floral,floral,woody,animalic,Pic...  \n",
      "12     woody,warm spicy,earthy,citrus,cinnamon,fruity  \n",
      "13  floral,honey,white floral,sweet,fresh spicy,Pi...  \n",
      "14      warm spicy,citrus,amber,aromatic,floral,green  \n"
     ]
    }
   ],
   "source": [
    "#remix most popular women's perfume minimum rating 82\n",
    "#order by rating score \n",
    "womens_perfume = 'SELECT brand, title,rating_score,date, votes,accords FROM df_perfume WHERE gender=\"women\" AND votes >=82 ORDER BY rating_score DESC LIMIT 15;'\n",
    "print(pysqldf(womens_perfume))"
   ]
  },
  {
   "cell_type": "code",
   "execution_count": 20,
   "metadata": {},
   "outputs": [
    {
     "name": "stdout",
     "output_type": "stream",
     "text": [
      "              brand                                      title  rating_score  \\\n",
      "0            Mugler                     Angel Mugler for women          3.15   \n",
      "1            Mugler                     Alien Mugler for women          3.81   \n",
      "2            Chanel         Coco Mademoiselle Chanel for women          4.08   \n",
      "3     Dolce-Gabbana         Light Blue Dolce&Gabbana for women          3.64   \n",
      "4    Christian-Dior   Hypnotic Poison Christian Dior for women          3.95   \n",
      "5    Christian-Dior           J'adore Christian Dior for women          3.64   \n",
      "6       Viktor-Rolf           Flowerbomb Viktor&Rolf for women          3.72   \n",
      "7      Calvin-Klein            Euphoria Calvin Klein for women          3.68   \n",
      "8          Tom-Ford            Black Orchid Tom Ford for women          3.77   \n",
      "9   Lolita-Lempicka  Lolita Lempicka Lolita Lempicka for women          3.80   \n",
      "10          Lancome         La Vie Est Belle Lancome for women          3.41   \n",
      "11         Guerlain  Shalimar Eau de Parfum Guerlain for women          3.84   \n",
      "12           Chanel        Chanel No 5 Parfum Chanel for women          3.30   \n",
      "13            Chlo-        Chloe Eau de Parfum Chloé for women          3.83   \n",
      "14   Britney-Spears           Fantasy Britney Spears for women          3.78   \n",
      "\n",
      "    date  votes                                            accords  \n",
      "0   1992  11188  sweet,patchouli,warm spicy,fruity,caramel,caca...  \n",
      "1   2005  10435  white floral,amber,woody,animalic,balsamic,Vid...  \n",
      "2   2001  10349  citrus,patchouli,white floral,sweet,rose,balsa...  \n",
      "3   2001  10008    citrus,woody,green,fresh,fruity,Videos,Pictures  \n",
      "4   1998   9771  vanilla,almond,sweet,nutty,fruity,Videos,Pictures  \n",
      "5   1999   8689  floral,fruity,white floral,sweet,aquatic,Video...  \n",
      "6   2005   8573  floral,patchouli,white floral,green,citrus,Vid...  \n",
      "7   2005   8161  woody,floral,powdery,sweet,amber,fruity,Videos...  \n",
      "8      1   8128    warm spicy,sweet,earthy,balsamic,cacao,Pictures  \n",
      "9   1997   8096  sweet,soft spicy,powdery,floral,woody,Videos,P...  \n",
      "10  1949   7994  sweet,vanilla,fruity,powdery,patchouli,Videos,...  \n",
      "11  1925   7682  balsamic,citrus,woody,powdery,smoky,vanilla,Vi...  \n",
      "12  1921   7444  woody,powdery,floral,aldehydic,citrus,musky,Pi...  \n",
      "13  2008   7153  floral,rose,fresh,fruity,tropical,Videos,Pictures  \n",
      "14  2005   6798  sweet,fruity,tropical,fresh,floral,Videos,Pict...  \n"
     ]
    }
   ],
   "source": [
    "# women most popular perfune minimum rating 82\n",
    "# order by votes \n",
    "womens_perfume = 'SELECT brand, title, rating_score, date, votes, accords FROM df_perfume WHERE gender= \"women\" AND votes >=82 ORDER BY votes DESC LIMIT 15;'\n",
    "print(pysqldf(womens_perfume))"
   ]
  },
  {
   "cell_type": "code",
   "execution_count": 21,
   "metadata": {},
   "outputs": [
    {
     "name": "stdout",
     "output_type": "stream",
     "text": [
      "   AVG(votes)\n",
      "0  111.791765\n"
     ]
    }
   ],
   "source": [
    "#most popular fragrence for men \n",
    "# average \n",
    "avg_man = 'SELECT AVG(votes) FROM df_perfume WHERE gender =\"man\";'\n",
    "print(pysqldf(avg_man))"
   ]
  },
  {
   "cell_type": "code",
   "execution_count": 22,
   "metadata": {},
   "outputs": [
    {
     "name": "stdout",
     "output_type": "stream",
     "text": [
      "                brand                                              title  \\\n",
      "0   Ermenegildo-Zegna        Sicilian Mandarin Ermenegildo Zegna for men   \n",
      "1      Giorgio-Armani  Vétiver d'Hiver (Vetiver Babylone) Giorgio Arm...   \n",
      "2      Giorgio-Armani  Emporio Armani White For Him Giorgio Armani fo...   \n",
      "3              Frapin                         L'Humaniste Frapin for men   \n",
      "4      Giorgio-Armani   Armani Code Sport Athlete Giorgio Armani for men   \n",
      "5           Halloween              Halloween Man Shot  Halloween for men   \n",
      "6             Halston                          Man Amber Halston for men   \n",
      "7    Gianfranco-Ferre  Gianfranco Ferre  for Man Gianfranco Ferre for...   \n",
      "8      Giorgio-Armani  Emporio Armani Diamonds Black Carat for Him Gi...   \n",
      "9               Armaf             Club de Nuit Intense Man Armaf for men   \n",
      "10     Giorgio-Armani            Attitude Extreme Giorgio Armani for men   \n",
      "11            Bvlgari           Bvlgari Man Black Orient Bvlgari for men   \n",
      "12  Comme-des-Garcons  Comme des Garcons 2 Man Comme des Garcons for men   \n",
      "13      Ormonde-Jayne                  Ormonde Man Ormonde Jayne for men   \n",
      "14     Dame-Perfumery                New Musk Man Dame Perfumery for men   \n",
      "\n",
      "    rating_score  date  votes  \\\n",
      "0           4.50  2012    206   \n",
      "1           4.43  2008    352   \n",
      "2           4.41  2001    225   \n",
      "3           4.40  2009    602   \n",
      "4           4.39  2012    227   \n",
      "5           4.39  2016    194   \n",
      "6           4.37  2010    281   \n",
      "7           4.37  1986    299   \n",
      "8           4.34  2011    144   \n",
      "9           4.32  2015   2505   \n",
      "10          4.32  2007    422   \n",
      "11          4.32  2010    346   \n",
      "12          4.32  2004   1175   \n",
      "13          4.31  2004    428   \n",
      "14          4.31  2015    130   \n",
      "\n",
      "                                              accords  \n",
      "0    citrus,green,aromatic,woody,fresh spicy,Pictures  \n",
      "1         citrus,aromatic,green,woody,earthy,Pictures  \n",
      "2            citrus,aromatic,fresh spicy,musky,herbal  \n",
      "3   aromatic,fresh spicy,citrus,woody,herbal,Pictures  \n",
      "4    citrus,fresh spicy,green,fresh,aromatic,Pictures  \n",
      "5   powdery,vanilla,aromatic,citrus,floral,warm sp...  \n",
      "6   balsamic,amber,oud,fresh spicy,woody,smoky,Pic...  \n",
      "7   woody,aromatic,green,citrus,fresh spicy,warm s...  \n",
      "8      woody,warm spicy,cacao,amber,balsamic,Pictures  \n",
      "9          citrus,leather,fruity,smoky,green,Pictures  \n",
      "10  warm spicy,coffee,soft spicy,amber,citrus,Pict...  \n",
      "11       leather,oud,warm spicy,rum,animalic,Pictures  \n",
      "12  woody,balsamic,smoky,aromatic,warm spicy,leath...  \n",
      "13  woody,aromatic,warm spicy,soft spicy,fresh spi...  \n",
      "14  musky,citrus,rose,woody,white floral,sweet,Pic...  \n"
     ]
    }
   ],
   "source": [
    "#most popular fragrence for men 112 and above\n",
    "#order by rating_score\n",
    "man_perfume = 'SELECT brand, title, rating_score, date,votes,accords FROM df_perfume WHERE gender=\"man\" AND votes>= 112 ORDER BY rating_score DESC LIMIT 15;'\n",
    "print(pysqldf(man_perfume))"
   ]
  },
  {
   "cell_type": "code",
   "execution_count": 23,
   "metadata": {},
   "outputs": [
    {
     "name": "stdout",
     "output_type": "stream",
     "text": [
      "             brand                                             title  \\\n",
      "0   Giorgio-Armani               Acqua di Gio Giorgio Armani for men   \n",
      "1          Versace           Versace Man Eau Fraiche Versace for men   \n",
      "2   Giorgio-Armani                Armani Code Giorgio Armani for men   \n",
      "3   Giorgio-Armani       Acqua di Gio Profumo Giorgio Armani for men   \n",
      "4            Prada  Prada Amber Pour Homme (Prada Man) Prada for men   \n",
      "5           Rochas                         Rochas Man Rochas for men   \n",
      "6            Armaf            Club de Nuit Intense Man Armaf for men   \n",
      "7          Bvlgari              Bvlgari Man In Black Bvlgari for men   \n",
      "8          Amouage                     Interlude Man Amouage for men   \n",
      "9          Amouage                    Reflection Man Amouage for men   \n",
      "10  Giorgio-Armani        Armani Code Profumo Giorgio Armani for men   \n",
      "11  Giorgio-Armani       Acqua di Gio Essenza Giorgio Armani for men   \n",
      "12         Bvlgari                       Bvlgari Man Bvlgari for men   \n",
      "13         Amouage                        Memoir Man Amouage for men   \n",
      "14        Givenchy                 Gentleman (1974) Givenchy for men   \n",
      "\n",
      "    rating_score  date  votes  \\\n",
      "0           3.98  1996   7224   \n",
      "1           4.12  2006   5114   \n",
      "2           4.09  2004   4918   \n",
      "3           4.29  1996   3091   \n",
      "4           4.06  2006   2743   \n",
      "5           4.12  1999   2649   \n",
      "6           4.32  2015   2505   \n",
      "7           4.25  2010   2294   \n",
      "8           4.16  2012   2153   \n",
      "9           4.29  2007   2120   \n",
      "10          4.06  2016   1828   \n",
      "11          4.30  1996   1643   \n",
      "12          3.88  2010   1481   \n",
      "13          4.27  2010   1349   \n",
      "14          4.06  1974   1300   \n",
      "\n",
      "                                              accords  \n",
      "0   citrus,aromatic,marine,fresh spicy,floral,gree...  \n",
      "1   citrus,aromatic,woody,fresh spicy,fruity,Video...  \n",
      "2   citrus,leather,aromatic,floral,soft spicy,Pict...  \n",
      "3   aromatic,balsamic,marine,fresh spicy,smoky,cit...  \n",
      "4   balsamic,warm spicy,aromatic,citrus,leather,mu...  \n",
      "5   coffee,sweet,vanilla,aromatic,fresh spicy,wood...  \n",
      "6          citrus,leather,fruity,smoky,green,Pictures  \n",
      "7   warm spicy,woody,sweet,leather,rum,balsamic,Pi...  \n",
      "8   balsamic,fresh spicy,amber,smoky,warm spicy,Pi...  \n",
      "9   woody,white floral,powdery,aromatic,balsamic,f...  \n",
      "10  aromatic,balsamic,amber,warm spicy,fresh spicy...  \n",
      "11  aquatic,fresh spicy,citrus,aromatic,woody,fres...  \n",
      "12  woody,aromatic,ozonic,aquatic,green,floral,Vid...  \n",
      "13  aromatic,fresh spicy,balsamic,woody,green,Pict...  \n",
      "14  patchouli,woody,earthy,animalic,warm spicy,Pic...  \n"
     ]
    }
   ],
   "source": [
    "#most popular men's perfume minimum 112 votes \n",
    "#order by votes \n",
    "man_perfume = 'SELECT brand,title, rating_score, date, votes, accords FROM df_perfume WHERE gender= \"man\" AND votes>=112 ORDER BY votes DESC LIMIT 15;'\n",
    "print(pysqldf(man_perfume))"
   ]
  },
  {
   "cell_type": "code",
   "execution_count": 24,
   "metadata": {},
   "outputs": [
    {
     "name": "stdout",
     "output_type": "stream",
     "text": [
      "              brand                                      title  rating_score  \\\n",
      "0            Mugler                     Angel Mugler for women          3.15   \n",
      "1            Mugler                     Alien Mugler for women          3.81   \n",
      "2            Chanel         Coco Mademoiselle Chanel for women          4.08   \n",
      "3     Dolce-Gabbana         Light Blue Dolce&Gabbana for women          3.64   \n",
      "4    Christian-Dior   Hypnotic Poison Christian Dior for women          3.95   \n",
      "5    Christian-Dior           J'adore Christian Dior for women          3.64   \n",
      "6       Viktor-Rolf           Flowerbomb Viktor&Rolf for women          3.72   \n",
      "7      Calvin-Klein            Euphoria Calvin Klein for women          3.68   \n",
      "8          Tom-Ford            Black Orchid Tom Ford for women          3.77   \n",
      "9   Lolita-Lempicka  Lolita Lempicka Lolita Lempicka for women          3.80   \n",
      "10          Lancome         La Vie Est Belle Lancome for women          3.41   \n",
      "11         Guerlain  Shalimar Eau de Parfum Guerlain for women          3.84   \n",
      "12           Chanel        Chanel No 5 Parfum Chanel for women          3.30   \n",
      "13            Chlo-        Chloe Eau de Parfum Chloé for women          3.83   \n",
      "14   Britney-Spears           Fantasy Britney Spears for women          3.78   \n",
      "\n",
      "    date  votes                                            accords  \n",
      "0   1992  11188  sweet,patchouli,warm spicy,fruity,caramel,caca...  \n",
      "1   2005  10435  white floral,amber,woody,animalic,balsamic,Vid...  \n",
      "2   2001  10349  citrus,patchouli,white floral,sweet,rose,balsa...  \n",
      "3   2001  10008    citrus,woody,green,fresh,fruity,Videos,Pictures  \n",
      "4   1998   9771  vanilla,almond,sweet,nutty,fruity,Videos,Pictures  \n",
      "5   1999   8689  floral,fruity,white floral,sweet,aquatic,Video...  \n",
      "6   2005   8573  floral,patchouli,white floral,green,citrus,Vid...  \n",
      "7   2005   8161  woody,floral,powdery,sweet,amber,fruity,Videos...  \n",
      "8      1   8128    warm spicy,sweet,earthy,balsamic,cacao,Pictures  \n",
      "9   1997   8096  sweet,soft spicy,powdery,floral,woody,Videos,P...  \n",
      "10  1949   7994  sweet,vanilla,fruity,powdery,patchouli,Videos,...  \n",
      "11  1925   7682  balsamic,citrus,woody,powdery,smoky,vanilla,Vi...  \n",
      "12  1921   7444  woody,powdery,floral,aldehydic,citrus,musky,Pi...  \n",
      "13  2008   7153  floral,rose,fresh,fruity,tropical,Videos,Pictures  \n",
      "14  2005   6798  sweet,fruity,tropical,fresh,floral,Videos,Pict...  \n"
     ]
    }
   ],
   "source": [
    "womens_perfume = 'SELECT brand, title, rating_score, date, votes, accords FROM df_perfume WHERE gender= \"women\" AND votes >=82 ORDER BY votes DESC LIMIT 15'\n",
    "print(pysqldf(womens_perfume))"
   ]
  },
  {
   "cell_type": "code",
   "execution_count": 37,
   "metadata": {},
   "outputs": [
    {
     "name": "stdout",
     "output_type": "stream",
     "text": [
      "                                brand  avg_rating   avg_votes  \\\n",
      "0                                Cher    4.760000   90.500000   \n",
      "1                            Borghese    4.536667  124.333333   \n",
      "2                   Catherine-Deneuve    4.520000  115.000000   \n",
      "3                       Susan-D-Owens    4.475000   96.500000   \n",
      "4                        Oleg-Cassini    4.440000   96.000000   \n",
      "5                         Guy-Laroche    4.407143  279.571429   \n",
      "6                         Scotch-Soda    4.400000  103.000000   \n",
      "7                             Origins    4.357500  105.250000   \n",
      "8                       Fifi-Chachnil    4.240000  199.000000   \n",
      "9                             Raphael    4.220000   96.000000   \n",
      "10                             Natori    4.212500  102.000000   \n",
      "11                            Ferrari    4.197143  234.571429   \n",
      "12  Juozas-Statkevicius-Josef-Statkus    4.190000  155.000000   \n",
      "13                               Nuxe    4.188000  106.600000   \n",
      "14           Maison-Francis-Kurkdjian    4.183659  342.536585   \n",
      "\n",
      "                                              accords  \n",
      "0   citrus,white floral,woody,aromatic,vanilla,war...  \n",
      "1   fruity,white floral,floral,sweet,ozonic,fresh,...  \n",
      "2     green,woody,floral,powdery,fresh spicy,Pictures  \n",
      "3   white floral,floral,tuberose,powdery,musky,ani...  \n",
      "4    white floral,floral,earthy,rose,patchouli,fruity  \n",
      "5   sweet,floral,animalic,musky,woody,fruity,Pictures  \n",
      "6   woody,powdery,fresh spicy,citrus,aromatic,bals...  \n",
      "7           herbal,aromatic,floral,sweet,fruity,woody  \n",
      "8         citrus,amber,tobacco,rose,aromatic,Pictures  \n",
      "9   aromatic,woody,citrus,floral,powdery,earthy,Pi...  \n",
      "10  green,musky,white floral,fruity,floral,woody,P...  \n",
      "11  green,marine,citrus,fresh spicy,aromatic,Pictures  \n",
      "12  balsamic,warm spicy,smoky,patchouli,woody,Pict...  \n",
      "13  white floral,vanilla,sweet,aromatic,balsamic,V...  \n",
      "14        balsamic,honey,warm spicy,woody,smoky,sweet  \n"
     ]
    }
   ],
   "source": [
    "#practice using having clause \n",
    "# most popular women's brand of perfume \n",
    "# group by brand\n",
    "#having avg_votes >=82 # order by avgrating_score \n",
    "womens_perfume = 'SELECT brand,AVG(rating_score) AS avg_rating, AVG(votes) AS avg_votes, accords FROM df_perfume WHERE gender=\"women\" GROUP BY brand HAVING avg_votes >= 82 ORDER BY avg_rating DESC LIMIT 15'\n",
    "print(pysqldf(womens_perfume))"
   ]
  },
  {
   "cell_type": "code",
   "execution_count": 43,
   "metadata": {},
   "outputs": [
    {
     "name": "stdout",
     "output_type": "stream",
     "text": [
      "             brand  avg_rating    avg_votes  \\\n",
      "0        Lady-Gaga    3.525000  2424.000000   \n",
      "1          Madonna    3.695000  1716.500000   \n",
      "2      Hilary-Duff    3.690000  1167.500000   \n",
      "3   Britney-Spears    3.857778  1154.074074   \n",
      "4     Taylor-Swift    3.760000  1100.200000   \n",
      "5     Gwen-Stefani    3.180000  1020.000000   \n",
      "6           Chanel    4.089062  1000.010417   \n",
      "7       Katy-Perry    3.621000   954.700000   \n",
      "8    Queen-Latifah    3.900000   948.500000   \n",
      "9          Rihanna    3.788889   856.555556   \n",
      "10           Chlo-    3.830968   845.903226   \n",
      "11         Versace    3.744444   818.222222   \n",
      "12   Dolce-Gabbana    3.875741   817.203704   \n",
      "13     Adam-Levine    3.630000   815.000000   \n",
      "14           Evyan    3.660000   803.000000   \n",
      "\n",
      "                                              accords  \n",
      "0   floral,honey,sweet,balsamic,fruity,Videos,Pict...  \n",
      "1   white floral,tuberose,animalic,vanilla,amber,V...  \n",
      "2        warm spicy,woody,amber,musky,animalic,Videos  \n",
      "3   white floral,fruity,tuberose,sweet,animalic,Vi...  \n",
      "4   floral,fruity,woody,powdery,fresh,Videos,Pictures  \n",
      "5   floral,white floral,fruity,sweet,aquatic,Video...  \n",
      "6           powdery,white floral,vanilla,musky,floral  \n",
      "7   sweet,fruity,coconut,floral,tonka (coumarin),f...  \n",
      "8   balsamic,warm spicy,woody,vanilla,aromatic,pat...  \n",
      "9   citrus,sweet,fruity,yellow floral,woody,musky,...  \n",
      "10  rose,patchouli,vanilla,warm spicy,earthy,Pictures  \n",
      "11                  fruity,sweet,sour,powdery,vanilla  \n",
      "12  fruity,sweet,warm spicy,rose,coffee,balsamic,P...  \n",
      "13  warm spicy,balsamic,woody,powdery,vanilla,Pict...  \n",
      "14  white floral,floral,animalic,green,woody,powde...  \n"
     ]
    }
   ],
   "source": [
    "#practice using having clause \n",
    "# most popular women's brand of perfume \n",
    "# group by brand\n",
    "#having avg_votes >=82 # order by avg_votes\n",
    "womens_perfume = 'SELECT brand,AVG(rating_score) AS avg_rating, AVG(votes) AS avg_votes, accords FROM df_perfume WHERE gender=\"women\"  GROUP BY brand HAVING avg_votes >= 82 ORDER BY avg_votes DESC LIMIT 15'\n",
    "print(pysqldf(womens_perfume))"
   ]
  },
  {
   "cell_type": "code",
   "execution_count": 49,
   "metadata": {},
   "outputs": [
    {
     "name": "stdout",
     "output_type": "stream",
     "text": [
      "                 brand  avg_rating    avg_votes  \\\n",
      "0    Ermenegildo-Zegna    4.500000   206.000000   \n",
      "1    Comme-des-Garcons    4.320000  1175.000000   \n",
      "2        Ormonde-Jayne    4.310000   428.000000   \n",
      "3    Oscar-de-la-Renta    4.300000   124.000000   \n",
      "4         MDCI-Parfums    4.230000   127.000000   \n",
      "5              Versace    4.220000  2605.000000   \n",
      "6               Frapin    4.185000   320.000000   \n",
      "7         Ralph-Lauren    4.175000   315.000000   \n",
      "8              Mancera    4.165000   196.000000   \n",
      "9              Halston    4.150000   175.000000   \n",
      "10              Rochas    4.145000  1389.500000   \n",
      "11             Bvlgari    4.127273   562.727273   \n",
      "12    Gianfranco-Ferre    4.110000   205.000000   \n",
      "13      Pierre-Balmain    4.100000   117.000000   \n",
      "14  Jean-Paul-Gaultier    4.100000   418.000000   \n",
      "\n",
      "                                              accords  \n",
      "0    citrus,green,aromatic,woody,fresh spicy,Pictures  \n",
      "1   woody,balsamic,smoky,aromatic,warm spicy,leath...  \n",
      "2   woody,aromatic,warm spicy,soft spicy,fresh spi...  \n",
      "3   aromatic,citrus,fresh spicy,woody,warm spicy,P...  \n",
      "4     balsamic,warm spicy,leather,rose,woody,Pictures  \n",
      "5   citrus,aromatic,woody,fresh spicy,fruity,Video...  \n",
      "6   aromatic,fresh spicy,citrus,woody,herbal,Pictures  \n",
      "7              woody,citrus,powdery,fresh spicy,vodka  \n",
      "8   fresh spicy,aromatic,woody,floral,warm spicy,p...  \n",
      "9   balsamic,amber,oud,fresh spicy,woody,smoky,Pic...  \n",
      "10  aromatic,woody,fresh spicy,citrus,herbal,Pictures  \n",
      "11   citrus,woody,green,aromatic,fresh spicy,Pictures  \n",
      "12  aromatic,fresh spicy,warm spicy,citrus,sweet,b...  \n",
      "13  aromatic,woody,floral,fresh spicy,warm spicy,b...  \n",
      "14  aromatic,green,vanilla,aldehydic,balsamic,fres...  \n"
     ]
    }
   ],
   "source": [
    "#practice using having clause \n",
    "# most popular men brand of perfume \n",
    "# group by brand\n",
    "#having avg_votes >=112 # order by avg_rating\n",
    "man_perfume = 'SELECT brand, AVG(rating_score) AS avg_rating , AVG(votes) AS avg_votes, accords FROM df_perfume WHERE gender=\"man\" GROUP BY brand HAVING avg_votes >=112 ORDER BY avg_rating DESC LIMIT 15'\n",
    "print(pysqldf(man_perfume))"
   ]
  },
  {
   "cell_type": "code",
   "execution_count": 48,
   "metadata": {},
   "outputs": [
    {
     "name": "stdout",
     "output_type": "stream",
     "text": [
      "                 brand  avg_rating    avg_votes  \\\n",
      "0                Prada    4.060000  2743.000000   \n",
      "1              Versace    4.220000  2605.000000   \n",
      "2               Rochas    4.145000  1389.500000   \n",
      "3    Comme-des-Garcons    4.320000  1175.000000   \n",
      "4       Alfred-Dunhill    3.890000  1033.000000   \n",
      "5        Dolce-Gabbana    3.720000   994.000000   \n",
      "6              Amouage    4.004667   784.600000   \n",
      "7                Armaf    3.582500   667.250000   \n",
      "8         Calvin-Klein    3.450000   622.000000   \n",
      "9       Giorgio-Armani    3.981346   616.288462   \n",
      "10            Givenchy    3.867500   579.750000   \n",
      "11             Bvlgari    4.127273   562.727273   \n",
      "12       Ormonde-Jayne    4.310000   428.000000   \n",
      "13  Jean-Paul-Gaultier    4.100000   418.000000   \n",
      "14               Guess    3.590000   388.000000   \n",
      "\n",
      "                                              accords  \n",
      "0   balsamic,warm spicy,aromatic,citrus,leather,mu...  \n",
      "1   citrus,aromatic,woody,fresh spicy,fruity,Video...  \n",
      "2   aromatic,woody,fresh spicy,citrus,herbal,Pictures  \n",
      "3   woody,balsamic,smoky,aromatic,warm spicy,leath...  \n",
      "4     citrus,vanilla,fruity,fresh,green,rose,Pictures  \n",
      "5   fresh spicy,aromatic,vanilla,warm spicy,patcho...  \n",
      "6   woody,aromatic,fresh spicy,green,citrus,balsam...  \n",
      "7          citrus,leather,fruity,smoky,green,Pictures  \n",
      "8   fresh spicy,aromatic,woody,balsamic,ozonic,cit...  \n",
      "9   vanilla,sweet,aromatic,citrus,powdery,balsamic...  \n",
      "10  powdery,balsamic,warm spicy,vanilla,fresh spic...  \n",
      "11   citrus,woody,green,aromatic,fresh spicy,Pictures  \n",
      "12  woody,aromatic,warm spicy,soft spicy,fresh spi...  \n",
      "13  aromatic,green,vanilla,aldehydic,balsamic,fres...  \n",
      "14          fresh spicy,aromatic,woody,balsamic,musky  \n"
     ]
    }
   ],
   "source": [
    "#practice using having clause \n",
    "# most popular men brand of perfume \n",
    "# group by brand\n",
    "#having avg_votes >=112 # order by avg_votes\n",
    "man_perfume = 'SELECT brand, AVG(rating_score) AS avg_rating, AVG(votes) AS avg_votes, accords FROM df_perfume WHERE gender=\"man\" GROUP BY brand HAVING avg_votes >= 112 ORDER BY avg_votes DESC LIMIT 15' \n",
    "print(pysqldf(man_perfume))"
   ]
  }
 ],
 "metadata": {
  "kernelspec": {
   "display_name": "Python 3",
   "language": "python",
   "name": "python3"
  },
  "language_info": {
   "codemirror_mode": {
    "name": "ipython",
    "version": 3
   },
   "file_extension": ".py",
   "mimetype": "text/x-python",
   "name": "python",
   "nbconvert_exporter": "python",
   "pygments_lexer": "ipython3",
   "version": "3.8.5"
  }
 },
 "nbformat": 4,
 "nbformat_minor": 4
}
