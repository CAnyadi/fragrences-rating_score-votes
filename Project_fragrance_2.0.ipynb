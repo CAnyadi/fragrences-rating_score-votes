{
 "cells": [
  {
   "cell_type": "code",
   "execution_count": 82,
   "metadata": {},
   "outputs": [
    {
     "name": "stdout",
     "output_type": "stream",
     "text": [
      "zsh:1: command not found: pip\n",
      "zsh:1: command not found: pip\n"
     ]
    }
   ],
   "source": [
    "!pip install pandasql\n",
    "!pip install panda"
   ]
  },
  {
   "cell_type": "code",
   "execution_count": 83,
   "metadata": {},
   "outputs": [],
   "source": [
    "from pandasql import sqldf\n",
    "pysqldf = lambda q: sqldf(q,globals())"
   ]
  },
  {
   "cell_type": "code",
   "execution_count": 84,
   "metadata": {},
   "outputs": [],
   "source": [
    "import pandas as pd "
   ]
  },
  {
   "cell_type": "code",
   "execution_count": 85,
   "metadata": {},
   "outputs": [],
   "source": [
    "#importing csv file \n",
    "df_perfume = pd.read_csv('perfume.csv')\n",
    "#df_perfume.head()"
   ]
  },
  {
   "cell_type": "code",
   "execution_count": 86,
   "metadata": {},
   "outputs": [
    {
     "data": {
      "text/plain": [
       "Index(['brand', 'title', 'date', 'accords', 'rating_score', 'votes',\n",
       "       'longevity_poor', 'longevity_weak', 'longevity_moderate',\n",
       "       'longevity_long', 'longevity_very_long', 'sillage_soft',\n",
       "       'sillage_moderate', 'sillage_heavy', 'sillage_enormous', 'clslove',\n",
       "       'clslike', 'clsdislike', 'clswinter', 'clsspring', 'clssummer',\n",
       "       'clsautumn', 'clscold', 'clshot', 'clsday', 'clsnight',\n",
       "       'clslove_female25under', 'clslove_male25under', 'clslove_female25older',\n",
       "       'clslove_male25older', 'clslike_female25under', 'clslike_male25under',\n",
       "       'clslike_female25older', 'clslike_male25older',\n",
       "       'clsdislike_female25under', 'clsdislike_male25under',\n",
       "       'clsdislike_female25older', 'clsdislike_male25older',\n",
       "       'clswinter_female25under', 'clswinter_male25under',\n",
       "       'clswinter_female25older', 'clswinter_male25older',\n",
       "       'clsspring_female25under', 'clsspring_male25under',\n",
       "       'clsspring_female25older', 'clsspring_male25older',\n",
       "       'clssummer_female25under', 'clssummer_male25under',\n",
       "       'clssummer_female25older', 'clssummer_male25older',\n",
       "       'clsautumn_female25under', 'clsautumn_male25under',\n",
       "       'clsautumn_female25older', 'clsautumn_male25older',\n",
       "       'clsday_female25under', 'clsday_male25under', 'clsday_female25older',\n",
       "       'clsday_male25older', 'clsnight_female25under', 'clsnight_male25under',\n",
       "       'clsnight_female25older', 'clsnight_male25older', 'Ihaveit', 'Ihadit',\n",
       "       'Iwantit', 'notes_1', 'notes_2', 'notes_3', 'notes_4', 'notes_5',\n",
       "       'notes_6', 'notes_7', 'notes_8', 'notes_9', 'notes_10', 'notes_11',\n",
       "       'notes_12', 'notes_13', 'notes_14', 'notes_15', 'notes_16', 'notes_17',\n",
       "       'notes_18', 'notes_19', 'notes_20', 'gender'],\n",
       "      dtype='object')"
      ]
     },
     "execution_count": 86,
     "metadata": {},
     "output_type": "execute_result"
    }
   ],
   "source": [
    "df_perfume.columns"
   ]
  },
  {
   "cell_type": "code",
   "execution_count": 87,
   "metadata": {},
   "outputs": [
    {
     "name": "stdout",
     "output_type": "stream",
     "text": [
      "   COUNT(title)  gender\n",
      "0         10479    None\n",
      "1           850     man\n",
      "2           122  unisex\n",
      "3         39761   women\n"
     ]
    }
   ],
   "source": [
    "# most popular womens perfume \n",
    "#first step counting number of each gender\n",
    "womens_perfume = 'SELECT COUNT(title), gender FROM df_perfume GROUP BY gender;'\n",
    "print(pysqldf(womens_perfume))"
   ]
  },
  {
   "cell_type": "code",
   "execution_count": 57,
   "metadata": {},
   "outputs": [],
   "source": [
    "#second step case statement man, woman unisex\n",
    "#womens_perfume = 'SELECT title, brand, rating_score, CASE WHEN title LIKE \"%men%\" THEN \"man\" ELSE \"unisex\" END AS \"gender_groups\" FROM df_perfume WHERE (SELECT * FROM womens_perfume)'\n",
    "#print(pysqldf(womens_perfume))"
   ]
  },
  {
   "cell_type": "code",
   "execution_count": 58,
   "metadata": {},
   "outputs": [],
   "source": [
    "#looking at value counts for gender groups \n",
    "#womens_perfume = 'SELECT * FROM womens_perfume'\n",
    "#print(pysqldf(womens_perfume))"
   ]
  },
  {
   "cell_type": "code",
   "execution_count": 88,
   "metadata": {},
   "outputs": [
    {
     "name": "stdout",
     "output_type": "stream",
     "text": [
      "   AVG(votes)\n",
      "0    81.37577\n"
     ]
    }
   ],
   "source": [
    "#remix most popular women's perfume\n",
    "#finding average votes\n",
    "avg_women= 'SELECT AVG(votes) FROM df_perfume WHERE gender= \"women\"; '\n",
    "print(pysqldf(avg_women))"
   ]
  },
  {
   "cell_type": "code",
   "execution_count": 89,
   "metadata": {},
   "outputs": [
    {
     "name": "stdout",
     "output_type": "stream",
     "text": [
      "                     brand                                              title  \\\n",
      "0                 Guerlain             Vol de Nuit Extract Guerlain for women   \n",
      "1   Abdul-Samad-Al-Qurashi  Body Musk Abdul Samad Al Qurashi for women and...   \n",
      "2        GianMarco-Venturi                 Girl 2 GianMarco Venturi for women   \n",
      "3                 Guerlain           L’Heure Bleue Extract Guerlain for women   \n",
      "4                 Guerlain                 Shalimar Parfum Guerlain for women   \n",
      "5                     Coty                              Chypre Coty for women   \n",
      "6                 Guerlain                 Samsara Extrait Guerlain for women   \n",
      "7      Laboratory-Perfumes        Gorse Laboratory Perfumes for women and men   \n",
      "8       Yves-Saint-Laurent          Opium Parfum Yves Saint Laurent for women   \n",
      "9                  Lancome                 2000 et Une Rose Lancome for women   \n",
      "10               By-Kilian            Single Malt By Kilian for women and men   \n",
      "11          Christian-Dior         Dioramour Christian Dior for women and men   \n",
      "12                Guerlain                Mitsouko Extract Guerlain for women   \n",
      "13                  Chanel  Les Exclusifs de Chanel Beige Parfum Chanel fo...   \n",
      "14           Ormonde-Jayne      Nawab of Oudh Ormonde Jayne for women and men   \n",
      "\n",
      "    rating_score  date  votes  \\\n",
      "0           4.83  1933    135   \n",
      "1           4.75     0     86   \n",
      "2           4.75  2006    122   \n",
      "3           4.74  1912    143   \n",
      "4           4.71  1925    233   \n",
      "5           4.70  1917    130   \n",
      "6           4.69  1989    188   \n",
      "7           4.68  2012    132   \n",
      "8           4.64  1977    183   \n",
      "9           4.63  1999    102   \n",
      "10          4.62  2015    171   \n",
      "11          4.62  2018     87   \n",
      "12          4.62  1919    221   \n",
      "13          4.62  2014    108   \n",
      "14          4.61  2012    188   \n",
      "\n",
      "                                              accords  \n",
      "0         green,floral,aromatic,powdery,yellow floral  \n",
      "1                                               musky  \n",
      "2   sweet,fruity,tropical,floral,sour,citrus,Pictures  \n",
      "3   powdery,floral,woody,soft spicy,warm spicy,bal...  \n",
      "4              floral,powdery,vanilla,citrus,aromatic  \n",
      "5           citrus,woody,floral,balsamic,white floral  \n",
      "6         powdery,woody,floral,yellow floral,balsamic  \n",
      "7   citrus,warm spicy,fresh,aromatic,fresh spicy,P...  \n",
      "8       balsamic,warm spicy,woody,smoky,powdery,sweet  \n",
      "9       rose,musky,amber,fresh spicy,vanilla,Pictures  \n",
      "10        sweet,powdery,fruity,woody,balsamic,vanilla  \n",
      "11  powdery,white floral,floral,woody,animalic,Pic...  \n",
      "12     woody,warm spicy,earthy,citrus,cinnamon,fruity  \n",
      "13  floral,honey,white floral,sweet,fresh spicy,Pi...  \n",
      "14      warm spicy,citrus,amber,aromatic,floral,green  \n"
     ]
    }
   ],
   "source": [
    "#remix most popular women's perfume minimum rating 82\n",
    "#order by rating score \n",
    "womens_perfume = 'SELECT brand, title,rating_score,date, votes,accords FROM df_perfume WHERE gender=\"women\" AND votes >82 ORDER BY rating_score DESC LIMIT 15;'\n",
    "print(pysqldf(womens_perfume))"
   ]
  },
  {
   "cell_type": "code",
   "execution_count": 92,
   "metadata": {},
   "outputs": [
    {
     "name": "stdout",
     "output_type": "stream",
     "text": [
      "                     brand                                              title  \\\n",
      "0                 Guerlain             Vol de Nuit Extract Guerlain for women   \n",
      "1   Abdul-Samad-Al-Qurashi  Body Musk Abdul Samad Al Qurashi for women and...   \n",
      "2        GianMarco-Venturi                 Girl 2 GianMarco Venturi for women   \n",
      "3                 Guerlain           L’Heure Bleue Extract Guerlain for women   \n",
      "4                 Guerlain                 Shalimar Parfum Guerlain for women   \n",
      "5                     Coty                              Chypre Coty for women   \n",
      "6                 Guerlain                 Samsara Extrait Guerlain for women   \n",
      "7      Laboratory-Perfumes        Gorse Laboratory Perfumes for women and men   \n",
      "8       Yves-Saint-Laurent          Opium Parfum Yves Saint Laurent for women   \n",
      "9                  Lancome                 2000 et Une Rose Lancome for women   \n",
      "10               By-Kilian            Single Malt By Kilian for women and men   \n",
      "11          Christian-Dior         Dioramour Christian Dior for women and men   \n",
      "12                Guerlain                Mitsouko Extract Guerlain for women   \n",
      "13                  Chanel  Les Exclusifs de Chanel Beige Parfum Chanel fo...   \n",
      "14           Ormonde-Jayne      Nawab of Oudh Ormonde Jayne for women and men   \n",
      "\n",
      "    rating_score  date  votes  \\\n",
      "0           4.83  1933    135   \n",
      "1           4.75     0     86   \n",
      "2           4.75  2006    122   \n",
      "3           4.74  1912    143   \n",
      "4           4.71  1925    233   \n",
      "5           4.70  1917    130   \n",
      "6           4.69  1989    188   \n",
      "7           4.68  2012    132   \n",
      "8           4.64  1977    183   \n",
      "9           4.63  1999    102   \n",
      "10          4.62  2015    171   \n",
      "11          4.62  2018     87   \n",
      "12          4.62  1919    221   \n",
      "13          4.62  2014    108   \n",
      "14          4.61  2012    188   \n",
      "\n",
      "                                              accords  \n",
      "0         green,floral,aromatic,powdery,yellow floral  \n",
      "1                                               musky  \n",
      "2   sweet,fruity,tropical,floral,sour,citrus,Pictures  \n",
      "3   powdery,floral,woody,soft spicy,warm spicy,bal...  \n",
      "4              floral,powdery,vanilla,citrus,aromatic  \n",
      "5           citrus,woody,floral,balsamic,white floral  \n",
      "6         powdery,woody,floral,yellow floral,balsamic  \n",
      "7   citrus,warm spicy,fresh,aromatic,fresh spicy,P...  \n",
      "8       balsamic,warm spicy,woody,smoky,powdery,sweet  \n",
      "9       rose,musky,amber,fresh spicy,vanilla,Pictures  \n",
      "10        sweet,powdery,fruity,woody,balsamic,vanilla  \n",
      "11  powdery,white floral,floral,woody,animalic,Pic...  \n",
      "12     woody,warm spicy,earthy,citrus,cinnamon,fruity  \n",
      "13  floral,honey,white floral,sweet,fresh spicy,Pi...  \n",
      "14      warm spicy,citrus,amber,aromatic,floral,green  \n"
     ]
    }
   ],
   "source": [
    "#remix most popular women's perfume minimum rating 82\n",
    "#order by rating score \n",
    "womens_perfume = 'SELECT brand, title,rating_score,date, votes,accords FROM df_perfume WHERE gender=\"women\" AND votes >82 ORDER BY rating_score DESC LIMIT 15;'\n",
    "print(pysqldf(womens_perfume))"
   ]
  },
  {
   "cell_type": "code",
   "execution_count": 90,
   "metadata": {},
   "outputs": [
    {
     "name": "stdout",
     "output_type": "stream",
     "text": [
      "              brand                                      title  rating_score  \\\n",
      "0            Mugler                     Angel Mugler for women          3.15   \n",
      "1            Mugler                     Alien Mugler for women          3.81   \n",
      "2            Chanel         Coco Mademoiselle Chanel for women          4.08   \n",
      "3     Dolce-Gabbana         Light Blue Dolce&Gabbana for women          3.64   \n",
      "4    Christian-Dior   Hypnotic Poison Christian Dior for women          3.95   \n",
      "5    Christian-Dior           J'adore Christian Dior for women          3.64   \n",
      "6       Viktor-Rolf           Flowerbomb Viktor&Rolf for women          3.72   \n",
      "7      Calvin-Klein            Euphoria Calvin Klein for women          3.68   \n",
      "8          Tom-Ford            Black Orchid Tom Ford for women          3.77   \n",
      "9   Lolita-Lempicka  Lolita Lempicka Lolita Lempicka for women          3.80   \n",
      "10          Lancome         La Vie Est Belle Lancome for women          3.41   \n",
      "11         Guerlain  Shalimar Eau de Parfum Guerlain for women          3.84   \n",
      "12           Chanel        Chanel No 5 Parfum Chanel for women          3.30   \n",
      "13            Chlo-        Chloe Eau de Parfum Chloé for women          3.83   \n",
      "14   Britney-Spears           Fantasy Britney Spears for women          3.78   \n",
      "\n",
      "    date  votes                                            accords  \n",
      "0   1992  11188  sweet,patchouli,warm spicy,fruity,caramel,caca...  \n",
      "1   2005  10435  white floral,amber,woody,animalic,balsamic,Vid...  \n",
      "2   2001  10349  citrus,patchouli,white floral,sweet,rose,balsa...  \n",
      "3   2001  10008    citrus,woody,green,fresh,fruity,Videos,Pictures  \n",
      "4   1998   9771  vanilla,almond,sweet,nutty,fruity,Videos,Pictures  \n",
      "5   1999   8689  floral,fruity,white floral,sweet,aquatic,Video...  \n",
      "6   2005   8573  floral,patchouli,white floral,green,citrus,Vid...  \n",
      "7   2005   8161  woody,floral,powdery,sweet,amber,fruity,Videos...  \n",
      "8      1   8128    warm spicy,sweet,earthy,balsamic,cacao,Pictures  \n",
      "9   1997   8096  sweet,soft spicy,powdery,floral,woody,Videos,P...  \n",
      "10  1949   7994  sweet,vanilla,fruity,powdery,patchouli,Videos,...  \n",
      "11  1925   7682  balsamic,citrus,woody,powdery,smoky,vanilla,Vi...  \n",
      "12  1921   7444  woody,powdery,floral,aldehydic,citrus,musky,Pi...  \n",
      "13  2008   7153  floral,rose,fresh,fruity,tropical,Videos,Pictures  \n",
      "14  2005   6798  sweet,fruity,tropical,fresh,floral,Videos,Pict...  \n"
     ]
    }
   ],
   "source": [
    "# women most popular perfune minimum rating 82\n",
    "# order by votes \n",
    "womens_perfume = 'SELECT brand, title, rating_score, date, votes, accords FROM df_perfume WHERE gender= \"women\" AND votes >=82 ORDER BY votes DESC LIMIT 15;'\n",
    "print(pysqldf(womens_perfume))"
   ]
  },
  {
   "cell_type": "code",
   "execution_count": 95,
   "metadata": {},
   "outputs": [
    {
     "name": "stdout",
     "output_type": "stream",
     "text": [
      "   AVG(votes)\n",
      "0  111.791765\n"
     ]
    }
   ],
   "source": [
    "#most popular fragrence for men \n",
    "# average \n",
    "avg_man = 'SELECT AVG(votes) FROM df_perfume WHERE gender =\"man\";'\n",
    "print(pysqldf(avg_man))"
   ]
  },
  {
   "cell_type": "code",
   "execution_count": 97,
   "metadata": {},
   "outputs": [
    {
     "name": "stdout",
     "output_type": "stream",
     "text": [
      "                brand                                              title  \\\n",
      "0   Ermenegildo-Zegna        Sicilian Mandarin Ermenegildo Zegna for men   \n",
      "1      Giorgio-Armani  Vétiver d'Hiver (Vetiver Babylone) Giorgio Arm...   \n",
      "2      Giorgio-Armani  Emporio Armani White For Him Giorgio Armani fo...   \n",
      "3              Frapin                         L'Humaniste Frapin for men   \n",
      "4      Giorgio-Armani   Armani Code Sport Athlete Giorgio Armani for men   \n",
      "5           Halloween              Halloween Man Shot  Halloween for men   \n",
      "6             Halston                          Man Amber Halston for men   \n",
      "7    Gianfranco-Ferre  Gianfranco Ferre  for Man Gianfranco Ferre for...   \n",
      "8      Giorgio-Armani  Emporio Armani Diamonds Black Carat for Him Gi...   \n",
      "9               Armaf             Club de Nuit Intense Man Armaf for men   \n",
      "10     Giorgio-Armani            Attitude Extreme Giorgio Armani for men   \n",
      "11            Bvlgari           Bvlgari Man Black Orient Bvlgari for men   \n",
      "12  Comme-des-Garcons  Comme des Garcons 2 Man Comme des Garcons for men   \n",
      "13      Ormonde-Jayne                  Ormonde Man Ormonde Jayne for men   \n",
      "14     Dame-Perfumery                New Musk Man Dame Perfumery for men   \n",
      "\n",
      "    rating_score  date  votes  \\\n",
      "0           4.50  2012    206   \n",
      "1           4.43  2008    352   \n",
      "2           4.41  2001    225   \n",
      "3           4.40  2009    602   \n",
      "4           4.39  2012    227   \n",
      "5           4.39  2016    194   \n",
      "6           4.37  2010    281   \n",
      "7           4.37  1986    299   \n",
      "8           4.34  2011    144   \n",
      "9           4.32  2015   2505   \n",
      "10          4.32  2007    422   \n",
      "11          4.32  2010    346   \n",
      "12          4.32  2004   1175   \n",
      "13          4.31  2004    428   \n",
      "14          4.31  2015    130   \n",
      "\n",
      "                                              accords  \n",
      "0    citrus,green,aromatic,woody,fresh spicy,Pictures  \n",
      "1         citrus,aromatic,green,woody,earthy,Pictures  \n",
      "2            citrus,aromatic,fresh spicy,musky,herbal  \n",
      "3   aromatic,fresh spicy,citrus,woody,herbal,Pictures  \n",
      "4    citrus,fresh spicy,green,fresh,aromatic,Pictures  \n",
      "5   powdery,vanilla,aromatic,citrus,floral,warm sp...  \n",
      "6   balsamic,amber,oud,fresh spicy,woody,smoky,Pic...  \n",
      "7   woody,aromatic,green,citrus,fresh spicy,warm s...  \n",
      "8      woody,warm spicy,cacao,amber,balsamic,Pictures  \n",
      "9          citrus,leather,fruity,smoky,green,Pictures  \n",
      "10  warm spicy,coffee,soft spicy,amber,citrus,Pict...  \n",
      "11       leather,oud,warm spicy,rum,animalic,Pictures  \n",
      "12  woody,balsamic,smoky,aromatic,warm spicy,leath...  \n",
      "13  woody,aromatic,warm spicy,soft spicy,fresh spi...  \n",
      "14  musky,citrus,rose,woody,white floral,sweet,Pic...  \n"
     ]
    }
   ],
   "source": [
    "#most popular fragrence for men 112 and above\n",
    "#order by rating_score\n",
    "man_perfume = 'SELECT brand, title, rating_score, date,votes,accords FROM df_perfume WHERE gender=\"man\" AND votes>= 112 ORDER BY rating_score DESC LIMIT 15;'\n",
    "print(pysqldf(man_perfume))"
   ]
  },
  {
   "cell_type": "code",
   "execution_count": 98,
   "metadata": {},
   "outputs": [
    {
     "name": "stdout",
     "output_type": "stream",
     "text": [
      "             brand                                             title  \\\n",
      "0   Giorgio-Armani               Acqua di Gio Giorgio Armani for men   \n",
      "1          Versace           Versace Man Eau Fraiche Versace for men   \n",
      "2   Giorgio-Armani                Armani Code Giorgio Armani for men   \n",
      "3   Giorgio-Armani       Acqua di Gio Profumo Giorgio Armani for men   \n",
      "4            Prada  Prada Amber Pour Homme (Prada Man) Prada for men   \n",
      "5           Rochas                         Rochas Man Rochas for men   \n",
      "6            Armaf            Club de Nuit Intense Man Armaf for men   \n",
      "7          Bvlgari              Bvlgari Man In Black Bvlgari for men   \n",
      "8          Amouage                     Interlude Man Amouage for men   \n",
      "9          Amouage                    Reflection Man Amouage for men   \n",
      "10  Giorgio-Armani        Armani Code Profumo Giorgio Armani for men   \n",
      "11  Giorgio-Armani       Acqua di Gio Essenza Giorgio Armani for men   \n",
      "12         Bvlgari                       Bvlgari Man Bvlgari for men   \n",
      "13         Amouage                        Memoir Man Amouage for men   \n",
      "14        Givenchy                 Gentleman (1974) Givenchy for men   \n",
      "\n",
      "    rating_score  date  votes  \\\n",
      "0           3.98  1996   7224   \n",
      "1           4.12  2006   5114   \n",
      "2           4.09  2004   4918   \n",
      "3           4.29  1996   3091   \n",
      "4           4.06  2006   2743   \n",
      "5           4.12  1999   2649   \n",
      "6           4.32  2015   2505   \n",
      "7           4.25  2010   2294   \n",
      "8           4.16  2012   2153   \n",
      "9           4.29  2007   2120   \n",
      "10          4.06  2016   1828   \n",
      "11          4.30  1996   1643   \n",
      "12          3.88  2010   1481   \n",
      "13          4.27  2010   1349   \n",
      "14          4.06  1974   1300   \n",
      "\n",
      "                                              accords  \n",
      "0   citrus,aromatic,marine,fresh spicy,floral,gree...  \n",
      "1   citrus,aromatic,woody,fresh spicy,fruity,Video...  \n",
      "2   citrus,leather,aromatic,floral,soft spicy,Pict...  \n",
      "3   aromatic,balsamic,marine,fresh spicy,smoky,cit...  \n",
      "4   balsamic,warm spicy,aromatic,citrus,leather,mu...  \n",
      "5   coffee,sweet,vanilla,aromatic,fresh spicy,wood...  \n",
      "6          citrus,leather,fruity,smoky,green,Pictures  \n",
      "7   warm spicy,woody,sweet,leather,rum,balsamic,Pi...  \n",
      "8   balsamic,fresh spicy,amber,smoky,warm spicy,Pi...  \n",
      "9   woody,white floral,powdery,aromatic,balsamic,f...  \n",
      "10  aromatic,balsamic,amber,warm spicy,fresh spicy...  \n",
      "11  aquatic,fresh spicy,citrus,aromatic,woody,fres...  \n",
      "12  woody,aromatic,ozonic,aquatic,green,floral,Vid...  \n",
      "13  aromatic,fresh spicy,balsamic,woody,green,Pict...  \n",
      "14  patchouli,woody,earthy,animalic,warm spicy,Pic...  \n"
     ]
    }
   ],
   "source": [
    "#most popular men's perfume minimum 112 votes \n",
    "#order by votes \n",
    "man_perfume = 'SELECT brand,title, rating_score, date, votes, accords FROM df_perfume WHERE gender= \"man\" AND votes>=112 ORDER BY votes DESC LIMIT 15;'\n",
    "print(pysqldf(man_perfume))"
   ]
  },
  {
   "cell_type": "code",
   "execution_count": null,
   "metadata": {},
   "outputs": [],
   "source": [
    "womens_perfume = 'SELECT brand, title, rating_score, date, votes, accords FROM df_perfume WHERE gender= \"women\" AND votes >=82 ORDER BY votes DESC LIMIT 15'\n",
    "print(pysqldf(womens_perfume))"
   ]
  },
  {
   "cell_type": "code",
   "execution_count": null,
   "metadata": {},
   "outputs": [],
   "source": [
    "git br"
   ]
  },
  {
   "cell_type": "code",
   "execution_count": null,
   "metadata": {},
   "outputs": [],
   "source": []
  },
  {
   "cell_type": "code",
   "execution_count": null,
   "metadata": {},
   "outputs": [],
   "source": []
  },
  {
   "cell_type": "code",
   "execution_count": null,
   "metadata": {},
   "outputs": [],
   "source": []
  }
 ],
 "metadata": {
  "kernelspec": {
   "display_name": "Python 3",
   "language": "python",
   "name": "python3"
  },
  "language_info": {
   "codemirror_mode": {
    "name": "ipython",
    "version": 3
   },
   "file_extension": ".py",
   "mimetype": "text/x-python",
   "name": "python",
   "nbconvert_exporter": "python",
   "pygments_lexer": "ipython3",
   "version": "3.8.5"
  }
 },
 "nbformat": 4,
 "nbformat_minor": 4
}
